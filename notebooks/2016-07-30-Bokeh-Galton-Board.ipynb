{
 "cells": [
  {
   "cell_type": "code",
   "execution_count": 1,
   "metadata": {
    "collapsed": false
   },
   "outputs": [],
   "source": [
    "import pandas as pd\n",
    "from bokeh.models import ColumnDataSource, Range1d\n",
    "from bokeh.plotting import figure, show\n",
    "from bokeh.client import push_session\n",
    "from bokeh.io import curdoc\n",
    "import random"
   ]
  },
  {
   "cell_type": "code",
   "execution_count": 2,
   "metadata": {
    "collapsed": false
   },
   "outputs": [],
   "source": [
    "def add_galton_board(p, n):\n",
    "    '''\n",
    "    '''\n",
    "    color = '#C19A6B'\n",
    "    \n",
    "    lines_x = [[-(n+1), -0.5], [0.5, n+1]]\n",
    "    lines_y = [[0, (n+1)-0.5], [(n+1)-0.5, 0]]\n",
    "    p.multi_line(lines_x, lines_y, line_width=3.0, line_color=color)\n",
    "    \n",
    "    pegs_x = []\n",
    "    pegs_y = []\n",
    "    for row in xrange(n):\n",
    "        for col in xrange(row+1):\n",
    "            pegs_x.append(-row+col*2)\n",
    "            pegs_y.append(n-row)\n",
    "            #print -i+j*2, n-i\n",
    "    p.circle(pegs_x, pegs_y, fill_color=color, line_color=None, radius=0.3)\n",
    "\n",
    "    return"
   ]
  },
  {
   "cell_type": "code",
   "execution_count": 3,
   "metadata": {
    "collapsed": true
   },
   "outputs": [],
   "source": [
    "def add_galton_ball(p, n=20):\n",
    "    '''\n",
    "    '''\n",
    "\n",
    "    p.line([0], [n], line_width=5.0, line_color='red', name='trail')\n",
    "    p.circle([0], [n], fill_color='red', line_color=None, radius=0.3, name='ball')\n",
    "    \n",
    "    return"
   ]
  },
  {
   "cell_type": "code",
   "execution_count": 4,
   "metadata": {
    "collapsed": true
   },
   "outputs": [],
   "source": [
    "def add_distro(p, n=20):\n",
    "    '''\n",
    "    '''\n",
    "    \n",
    "    df = pd.DataFrame({'x': range(-n+1, n+1, 2), \n",
    "                       'y': [-n+1]*n,\n",
    "                       'width': 1.5, \n",
    "                       'height': 2.,\n",
    "                       'count': 0\n",
    "                      })\n",
    "    ds = ColumnDataSource(df)\n",
    "    p.rect('x', 'y', width='width', height='height', source=ds, name='distro')"
   ]
  },
  {
   "cell_type": "code",
   "execution_count": 5,
   "metadata": {
    "collapsed": true
   },
   "outputs": [],
   "source": [
    "def get_galton_plot(n=20):\n",
    "    '''\n",
    "    '''\n",
    "    \n",
    "    p = figure(x_range=Range1d(-(n+2), n+2), y_range=Range1d(-n+1, n+1))\n",
    "    add_galton_board(p, n)\n",
    "    add_galton_ball(p)\n",
    "    add_distro(p)\n",
    "    \n",
    "    return p"
   ]
  },
  {
   "cell_type": "code",
   "execution_count": 6,
   "metadata": {
    "collapsed": false
   },
   "outputs": [],
   "source": [
    "def update(n=20):\n",
    "    ball = p.select_one({'name': 'ball'})\n",
    "    trail = p.select_one({'name': 'trail'})\n",
    "    distro = p.select_one({'name': 'distro'})\n",
    "\n",
    "    sign = random.choice([-1, 1])\n",
    "    ball_x = list(ball.data_source.data['x'])\n",
    "    ball_y = list(ball.data_source.data['y'])\n",
    "    distro_count = list(distro.data_source.data['count'])\n",
    "                 \n",
    "    #if ball_y[-1] > 1:\n",
    "    #    x = ball_x[-1] + sign\n",
    "    #    y = ball_y[-1] - 1\n",
    "    #    ball_x.append(x)\n",
    "    #    ball_y.append(y)\n",
    "    #else:\n",
    "    #    distro_count[(ball_x[-1] + n - 1)/2] += 1\n",
    "    #    norm = 1.0*sum(distro_count)\n",
    "    #    distro.data_source.data['height'] = list([2.0*n*count/norm for count in distro_count])\n",
    "    #\n",
    "    #    ball_x = [0]\n",
    "    #    ball_y = [n]\n",
    "    \n",
    "    ball_x = [random.choice([-1,1]) if x > 0 else 0 for x in xrange(n)]\n",
    "    ball_x = [sum(ball_x[:i+1]) for i in xrange(len(ball_x))]\n",
    "    ball_y = range(n,0,-1)\n",
    "    distro_count[(ball_x[-1] + n - 1)/2] += 1\n",
    "    norm = 1.0*sum(distro_count)\n",
    "    maxi = max(distro_count)\n",
    "    factor = n * norm / maxi\n",
    "    height = [factor*count/norm for count in distro_count]\n",
    "    distro.data_source.data['height'] = height\n",
    "    distro.data_source.data['y'] = [-n+0.5*x for x in height]\n",
    "    \n",
    "    ball.data_source.data = {'x': ball_x, 'y': ball_y}\n",
    "    trail.data_source.data = {'x': list(ball_x), 'y': list(ball_y)}\n",
    "    distro.data_source.data['count'] = distro_count"
   ]
  },
  {
   "cell_type": "code",
   "execution_count": 7,
   "metadata": {
    "collapsed": false
   },
   "outputs": [],
   "source": [
    "if __name__ == '__main__':\n",
    "    # You must first run \"bokeh serve\" to view this example\n",
    "    session = push_session(curdoc())\n",
    "    p = get_galton_plot()\n",
    "    curdoc().add_periodic_callback(update, 50)\n",
    "    session.show(p)\n",
    "    session.loop_until_closed()"
   ]
  },
  {
   "cell_type": "code",
   "execution_count": null,
   "metadata": {
    "collapsed": true
   },
   "outputs": [],
   "source": []
  }
 ],
 "metadata": {
  "kernelspec": {
   "display_name": "Python 2",
   "language": "python",
   "name": "python2"
  },
  "language_info": {
   "codemirror_mode": {
    "name": "ipython",
    "version": 2
   },
   "file_extension": ".py",
   "mimetype": "text/x-python",
   "name": "python",
   "nbconvert_exporter": "python",
   "pygments_lexer": "ipython2",
   "version": "2.7.11"
  }
 },
 "nbformat": 4,
 "nbformat_minor": 0
}
