{
 "cells": [
  {
   "cell_type": "markdown",
   "metadata": {},
   "source": [
    "import glob\n",
    "%load_ext snakeviz\n",
    "#% snakeviz glob.glob('*.txt')"
   ]
  },
  {
   "cell_type": "markdown",
   "metadata": {},
   "source": [
    "%%snakeviz\n",
    "files = glob.glob('*.txt')\n",
    "for file in files:\n",
    "    with open(file) as f:\n",
    "        print(hashlib.md5(f.read().encode('utf-8')).hexdigest())"
   ]
  },
  {
   "cell_type": "code",
   "execution_count": 1,
   "metadata": {
    "collapsed": false
   },
   "outputs": [],
   "source": [
    "import pandas as pd\n",
    "from bokeh.models import ColumnDataSource, Range1d\n",
    "from bokeh.plotting import figure, show\n",
    "from bokeh.client import push_session\n",
    "from bokeh.io import curdoc\n",
    "from bokeh.layouts import layout\n",
    "import random\n",
    "#from bokeh.io import curdoc"
   ]
  },
  {
   "cell_type": "code",
   "execution_count": 2,
   "metadata": {
    "collapsed": false
   },
   "outputs": [],
   "source": [
    "def add_galton_board(p, n):\n",
    "    '''\n",
    "    '''\n",
    "    color = '#C19A6B'\n",
    "    \n",
    "    lines_x = [[-(n+1), -0.5], [0.5, n+1]]\n",
    "    lines_y = [[0, (n+1)-0.5], [(n+1)-0.5, 0]]\n",
    "    p.multi_line(lines_x, lines_y, line_width=3.0, line_color=color)\n",
    "    \n",
    "    pegs_x = []\n",
    "    pegs_y = []\n",
    "    for i in xrange(n):\n",
    "        for j in xrange(i+1):\n",
    "            pegs_x.append(-i+j*2)\n",
    "            pegs_y.append(n-i)\n",
    "            #print -i+j*2, n-i\n",
    "    p.circle(pegs_x, pegs_y, fill_color=color, line_color=None, radius=0.3)\n",
    "\n",
    "    return"
   ]
  },
  {
   "cell_type": "code",
   "execution_count": 3,
   "metadata": {
    "collapsed": true
   },
   "outputs": [],
   "source": [
    "def add_galton_ball(p):\n",
    "    '''\n",
    "    '''\n",
    "    \n",
    "    ball = p.circle([0], [10], fill_color='red', line_color=None, radius=0.3, name='ball')\n",
    "    \n",
    "    return"
   ]
  },
  {
   "cell_type": "code",
   "execution_count": 4,
   "metadata": {
    "collapsed": true
   },
   "outputs": [],
   "source": [
    "def get_galton_plot(n=10):\n",
    "    '''\n",
    "    '''\n",
    "    \n",
    "    p = figure(x_range=Range1d(-(n+2), n+2), y_range=Range1d(-n+1, n+1))\n",
    "    add_galton_board(p, n)\n",
    "    add_galton_ball(p)\n",
    "    \n",
    "    return p"
   ]
  },
  {
   "cell_type": "code",
   "execution_count": 5,
   "metadata": {
    "collapsed": false
   },
   "outputs": [],
   "source": [
    "def update(n=10):\n",
    "    ball = p.select_one({'name': 'ball'})\n",
    "    \n",
    "    #row =ball.data_source.data['x'][0]\n",
    "    i = random.choice(range(n))\n",
    "    j = random.choice(range(i+1))\n",
    "    x = [-i+j*2]\n",
    "    y = [n-i]\n",
    "    \n",
    "    ball.data_source.data = {'x': x, 'y': y}"
   ]
  },
  {
   "cell_type": "code",
   "execution_count": 6,
   "metadata": {
    "collapsed": false
   },
   "outputs": [],
   "source": [
    "if __name__ == '__main__':\n",
    "    # You must first run \"bokeh serve\" to view this example\n",
    "    session = push_session(curdoc())\n",
    "    p = get_galton_plot()\n",
    "    curdoc().add_periodic_callback(update, 30)\n",
    "    session.show(p)\n",
    "    session.loop_until_closed()"
   ]
  },
  {
   "cell_type": "code",
   "execution_count": null,
   "metadata": {
    "collapsed": true
   },
   "outputs": [],
   "source": []
  }
 ],
 "metadata": {
  "kernelspec": {
   "display_name": "Python 2",
   "language": "python",
   "name": "python2"
  },
  "language_info": {
   "codemirror_mode": {
    "name": "ipython",
    "version": 2
   },
   "file_extension": ".py",
   "mimetype": "text/x-python",
   "name": "python",
   "nbconvert_exporter": "python",
   "pygments_lexer": "ipython2",
   "version": "2.7.11"
  }
 },
 "nbformat": 4,
 "nbformat_minor": 0
}
